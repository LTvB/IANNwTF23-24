{
  "cells": [
    {
      "cell_type": "code",
      "execution_count": 48,
      "metadata": {
        "id": "z9URNA8JW1f4"
      },
      "outputs": [],
      "source": [
        "import numpy as np\n",
        "import matplotlib.pyplot as plt\n",
        "from sklearn.datasets import load_digits"
      ]
    },
    {
      "cell_type": "code",
      "execution_count": 49,
      "metadata": {
        "id": "ene0wDvxW1f7"
      },
      "outputs": [],
      "source": [
        "class SigmoidActivation:\n",
        "    def __call__(self, x):\n",
        "        return 1 / (1 + np.exp(-x))\n",
        "\n",
        "    def backward(self, d_activation, pre_activation):\n",
        "        sigmoid_derivative = self.__call__(pre_activation) * (1 - self.__call__(pre_activation))\n",
        "        return d_activation * sigmoid_derivative\n"
      ]
    },
    {
      "cell_type": "code",
      "execution_count": 50,
      "metadata": {
        "id": "hKH-3EpZW1f7"
      },
      "outputs": [],
      "source": [
        "class SoftmaxActivation:\n",
        "    def __call__(self, x):\n",
        "        exp_x = np.exp(x - np.max(x, axis=1, keepdims=True))  # Subtracting max for numerical stability\n",
        "        return exp_x / np.sum(exp_x, axis=1, keepdims=True)\n"
      ]
    },
    {
      "cell_type": "code",
      "execution_count": 51,
      "metadata": {
        "id": "gUPYOrDtW1f7"
      },
      "outputs": [],
      "source": [
        "class MLP_Layer:\n",
        "    def __init__(self, activation_function, input_size, num_units):\n",
        "        self.activation = activation_function\n",
        "        self.weights = np.random.normal(loc=0.0, scale=0.2, size=(input_size, num_units))\n",
        "        self.biases = np.zeros(num_units)\n",
        "\n",
        "    def forward(self, x):\n",
        "        self.input = x\n",
        "        self.pre_activation = np.dot(x, self.weights) + self.biases\n",
        "        self.activation_output = self.activation(self.pre_activation)\n",
        "        return self.activation_output\n",
        "\n",
        "    def backward_weights(self, grad_pre_activation):\n",
        "        dL_dW = np.dot(self.input.T, grad_pre_activation)\n",
        "        dL_dinput = np.dot(grad_pre_activation, self.weights.T)\n",
        "        return dL_dW, dL_dinput\n"
      ]
    },
    {
      "cell_type": "code",
      "execution_count": 52,
      "metadata": {
        "id": "sGW2fQkrW1f8"
      },
      "outputs": [],
      "source": [
        "class CategoricalCrossEntropyLoss:\n",
        "    def __call__(self, y_true, y_pred):\n",
        "        epsilon = 1e-15\n",
        "        y_pred = np.clip(y_pred, epsilon, 1 - epsilon)\n",
        "        loss = -np.sum(y_true * np.log(y_pred)) / len(y_true)\n",
        "        self.y_true = y_true\n",
        "        self.y_pred = y_pred\n",
        "        return loss\n",
        "\n",
        "    def backward(self): #shapes: prediction(minibatch_size, 10) loss(minibatch_size,1)\n",
        "      #for CCE and Softmax\n",
        "      delta = self.y_pred - self.y_true\n",
        "      return delta"
      ]
    },
    {
      "cell_type": "code",
      "execution_count": 53,
      "metadata": {
        "id": "XP9IU_CVW1f8"
      },
      "outputs": [],
      "source": [
        "class MLP:\n",
        "    def __init__(self, layer_sizes, activation_functions):\n",
        "        self.num_layers = len(layer_sizes)\n",
        "        self.layers = []\n",
        "\n",
        "        for i in range(1, self.num_layers):\n",
        "            layer = MLP_Layer(activation_functions[i - 1], layer_sizes[i - 1], layer_sizes[i])\n",
        "            self.layers.append(layer)\n",
        "\n",
        "    def forward(self, x):\n",
        "        output = x\n",
        "        for layer in self.layers:\n",
        "            output = layer.forward(output)\n",
        "        return output\n",
        "\n",
        "    def backward(self, y_true, grad_loss):\n",
        "        gradients_list = [{} for _ in range(self.num_layers - 1)]\n",
        "        grad_activation = grad_loss\n",
        "\n",
        "        for i in reversed(range(self.num_layers - 1)):\n",
        "          if isinstance(self.layers[i].activation, SoftmaxActivation):\n",
        "            gradients_list[i]['grad_pre_activation'] = grad_loss\n",
        "            gradients_list[i]['grad_weights'], grad_activation = self.layers[i].backward_weights(\n",
        "                gradients_list[i]['grad_pre_activation']\n",
        "            )\n",
        "          else:\n",
        "            gradients_list[i]['grad_pre_activation'] = self.layers[i].activation.backward(\n",
        "                grad_activation, self.layers[i].pre_activation\n",
        "            )\n",
        "            gradients_list[i]['grad_weights'], grad_activation = self.layers[i].backward_weights(\n",
        "                gradients_list[i]['grad_pre_activation']\n",
        "            )\n",
        "\n",
        "\n",
        "        for i in range(self.num_layers - 1):\n",
        "            self.layers[i].weights -= learning_rate * gradients_list[i]['grad_weights']\n",
        "\n",
        "        return gradients_list"
      ]
    },
    {
      "cell_type": "code",
      "execution_count": 54,
      "metadata": {
        "id": "0Bi-hKraW1f8"
      },
      "outputs": [],
      "source": [
        "def shuffle_data(data, labels):\n",
        "    indices = np.arange(len(data))\n",
        "    np.random.shuffle(indices)\n",
        "    return data[indices], labels[indices]"
      ]
    },
    {
      "cell_type": "code",
      "execution_count": 55,
      "metadata": {
        "id": "nVJVQmw8W1f8"
      },
      "outputs": [],
      "source": [
        "def generate_minibatches(data, labels, minibatch_size):\n",
        "    for i in range(0, len(data), minibatch_size):\n",
        "        yield data[i:i+minibatch_size], labels[i:i+minibatch_size]\n"
      ]
    },
    {
      "cell_type": "code",
      "execution_count": 56,
      "metadata": {
        "id": "htuvRq2GW1f8"
      },
      "outputs": [],
      "source": [
        "def train_mlp(mlp, train_data, train_labels, learning_rate, epochs, minibatch_size):\n",
        "    losses = []\n",
        "\n",
        "    for epoch in range(epochs):\n",
        "        train_data, train_labels = shuffle_data(train_data, train_labels)\n",
        "        avg_loss = 0.0\n",
        "\n",
        "        for minibatch_data, minibatch_labels in generate_minibatches(train_data, train_labels, minibatch_size):\n",
        "            # Forward pass\n",
        "            output_data = mlp.forward(minibatch_data)\n",
        "            cross_entropy_loss = CategoricalCrossEntropyLoss()\n",
        "            loss_value = cross_entropy_loss(minibatch_labels, output_data)\n",
        "\n",
        "            # Backward pass\n",
        "            grad_loss = cross_entropy_loss.backward()\n",
        "            gradients_list = mlp.backward(minibatch_labels, grad_loss)\n",
        "\n",
        "            # Update weights\n",
        "            for i in range(mlp.num_layers - 1):\n",
        "                mlp.layers[i].weights -= learning_rate * gradients_list[i]['grad_weights']\n",
        "\n",
        "            avg_loss += loss_value / len(train_data)\n",
        "\n",
        "        losses.append(avg_loss)\n",
        "        print(f\"Epoch {epoch + 1}/{epochs} - Loss: {avg_loss:.4f}\")\n",
        "\n",
        "    # Plot the results\n",
        "    plt.plot(losses)\n",
        "    plt.xlabel('Epoch')\n",
        "    plt.ylabel('Average Loss')\n",
        "    plt.title('Training Loss vs. Epoch')\n",
        "\n",
        "    plt.show()"
      ]
    },
    {
      "cell_type": "code",
      "execution_count": 57,
      "metadata": {
        "id": "5WMZZ_GvW1f9"
      },
      "outputs": [],
      "source": [
        "# Load the handwritten digits dataset (using load_digits from sklearn)\n",
        "digits = load_digits()\n",
        "\n",
        "# Split the data into features and labels\n",
        "data = digits.data # 1797 x 64\n",
        "labels = digits.target # 1797 x 1\n",
        "\n",
        "data_scaled = (data - np.min(data)) / (np.max(data) - np.min(data))\n",
        "\n",
        "# One-hot encode the labels\n",
        "labels_onehot = np.eye(10)[labels]"
      ]
    },
    {
      "cell_type": "code",
      "execution_count": 58,
      "metadata": {
        "id": "U3c5y942W1gA",
        "outputId": "390ceeaa-2615-4a81-b045-2a331451efb5",
        "colab": {
          "base_uri": "https://localhost:8080/",
          "height": 1000
        }
      },
      "outputs": [
        {
          "output_type": "stream",
          "name": "stdout",
          "text": [
            "Epoch 1/100 - Loss: 0.0736\n",
            "Epoch 2/100 - Loss: 0.0699\n",
            "Epoch 3/100 - Loss: 0.0671\n",
            "Epoch 4/100 - Loss: 0.0641\n",
            "Epoch 5/100 - Loss: 0.0605\n",
            "Epoch 6/100 - Loss: 0.0570\n",
            "Epoch 7/100 - Loss: 0.0529\n",
            "Epoch 8/100 - Loss: 0.0490\n",
            "Epoch 9/100 - Loss: 0.0452\n",
            "Epoch 10/100 - Loss: 0.0414\n",
            "Epoch 11/100 - Loss: 0.0381\n",
            "Epoch 12/100 - Loss: 0.0348\n",
            "Epoch 13/100 - Loss: 0.0320\n",
            "Epoch 14/100 - Loss: 0.0294\n",
            "Epoch 15/100 - Loss: 0.0274\n",
            "Epoch 16/100 - Loss: 0.0253\n",
            "Epoch 17/100 - Loss: 0.0235\n",
            "Epoch 18/100 - Loss: 0.0221\n",
            "Epoch 19/100 - Loss: 0.0206\n",
            "Epoch 20/100 - Loss: 0.0194\n",
            "Epoch 21/100 - Loss: 0.0186\n",
            "Epoch 22/100 - Loss: 0.0176\n",
            "Epoch 23/100 - Loss: 0.0164\n",
            "Epoch 24/100 - Loss: 0.0157\n",
            "Epoch 25/100 - Loss: 0.0152\n",
            "Epoch 26/100 - Loss: 0.0143\n",
            "Epoch 27/100 - Loss: 0.0138\n",
            "Epoch 28/100 - Loss: 0.0132\n",
            "Epoch 29/100 - Loss: 0.0128\n",
            "Epoch 30/100 - Loss: 0.0122\n",
            "Epoch 31/100 - Loss: 0.0118\n",
            "Epoch 32/100 - Loss: 0.0114\n",
            "Epoch 33/100 - Loss: 0.0110\n",
            "Epoch 34/100 - Loss: 0.0107\n",
            "Epoch 35/100 - Loss: 0.0104\n",
            "Epoch 36/100 - Loss: 0.0103\n",
            "Epoch 37/100 - Loss: 0.0099\n",
            "Epoch 38/100 - Loss: 0.0096\n",
            "Epoch 39/100 - Loss: 0.0095\n",
            "Epoch 40/100 - Loss: 0.0091\n",
            "Epoch 41/100 - Loss: 0.0089\n",
            "Epoch 42/100 - Loss: 0.0087\n",
            "Epoch 43/100 - Loss: 0.0085\n",
            "Epoch 44/100 - Loss: 0.0083\n",
            "Epoch 45/100 - Loss: 0.0081\n",
            "Epoch 46/100 - Loss: 0.0080\n",
            "Epoch 47/100 - Loss: 0.0079\n",
            "Epoch 48/100 - Loss: 0.0076\n",
            "Epoch 49/100 - Loss: 0.0076\n",
            "Epoch 50/100 - Loss: 0.0074\n",
            "Epoch 51/100 - Loss: 0.0073\n",
            "Epoch 52/100 - Loss: 0.0072\n",
            "Epoch 53/100 - Loss: 0.0071\n",
            "Epoch 54/100 - Loss: 0.0069\n",
            "Epoch 55/100 - Loss: 0.0068\n",
            "Epoch 56/100 - Loss: 0.0067\n",
            "Epoch 57/100 - Loss: 0.0067\n",
            "Epoch 58/100 - Loss: 0.0065\n",
            "Epoch 59/100 - Loss: 0.0064\n",
            "Epoch 60/100 - Loss: 0.0065\n",
            "Epoch 61/100 - Loss: 0.0063\n",
            "Epoch 62/100 - Loss: 0.0062\n",
            "Epoch 63/100 - Loss: 0.0060\n",
            "Epoch 64/100 - Loss: 0.0060\n",
            "Epoch 65/100 - Loss: 0.0059\n",
            "Epoch 66/100 - Loss: 0.0060\n",
            "Epoch 67/100 - Loss: 0.0057\n",
            "Epoch 68/100 - Loss: 0.0057\n",
            "Epoch 69/100 - Loss: 0.0056\n",
            "Epoch 70/100 - Loss: 0.0055\n",
            "Epoch 71/100 - Loss: 0.0055\n",
            "Epoch 72/100 - Loss: 0.0055\n",
            "Epoch 73/100 - Loss: 0.0054\n",
            "Epoch 74/100 - Loss: 0.0054\n",
            "Epoch 75/100 - Loss: 0.0053\n",
            "Epoch 76/100 - Loss: 0.0054\n",
            "Epoch 77/100 - Loss: 0.0053\n",
            "Epoch 78/100 - Loss: 0.0051\n",
            "Epoch 79/100 - Loss: 0.0050\n",
            "Epoch 80/100 - Loss: 0.0050\n",
            "Epoch 81/100 - Loss: 0.0050\n",
            "Epoch 82/100 - Loss: 0.0050\n",
            "Epoch 83/100 - Loss: 0.0049\n",
            "Epoch 84/100 - Loss: 0.0048\n",
            "Epoch 85/100 - Loss: 0.0047\n",
            "Epoch 86/100 - Loss: 0.0047\n",
            "Epoch 87/100 - Loss: 0.0046\n",
            "Epoch 88/100 - Loss: 0.0046\n",
            "Epoch 89/100 - Loss: 0.0046\n",
            "Epoch 90/100 - Loss: 0.0045\n",
            "Epoch 91/100 - Loss: 0.0048\n",
            "Epoch 92/100 - Loss: 0.0047\n",
            "Epoch 93/100 - Loss: 0.0044\n",
            "Epoch 94/100 - Loss: 0.0045\n",
            "Epoch 95/100 - Loss: 0.0044\n",
            "Epoch 96/100 - Loss: 0.0043\n",
            "Epoch 97/100 - Loss: 0.0043\n",
            "Epoch 98/100 - Loss: 0.0042\n",
            "Epoch 99/100 - Loss: 0.0042\n",
            "Epoch 100/100 - Loss: 0.0042\n"
          ]
        },
        {
          "output_type": "display_data",
          "data": {
            "text/plain": [
              "<Figure size 640x480 with 1 Axes>"
            ],
            "image/png": "[encoded data removed]"
          },
          "metadata": {}
        }
      ],
      "source": [
        "# Define the MLP architecture and train the model\n",
        "mlp = MLP(layer_sizes=[64, 32, 10], activation_functions=[SigmoidActivation(), SoftmaxActivation()])\n",
        "learning_rate = 0.001\n",
        "epochs = 100\n",
        "minibatch_size = 32\n",
        "\n",
        "train_mlp(mlp, data_scaled, labels_onehot, learning_rate, epochs, minibatch_size)\n"
      ]
    }
  ],
  "metadata": {
    "kernelspec": {
      "display_name": "Python 3",
      "language": "python",
      "name": "python3"
    },
    "language_info": {
      "codemirror_mode": {
        "name": "ipython",
        "version": 3
      },
      "file_extension": ".py",
      "mimetype": "text/x-python",
      "name": "python",
      "nbconvert_exporter": "python",
      "pygments_lexer": "ipython3",
      "version": "3.10.2"
    },
    "colab": {
      "provenance": []
    }
  },
  "nbformat": 4,
  "nbformat_minor": 0
}